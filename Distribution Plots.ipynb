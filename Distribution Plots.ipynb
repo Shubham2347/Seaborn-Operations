{
 "cells": [
  {
   "cell_type": "code",
   "execution_count": 1,
   "id": "1c0e7b03",
   "metadata": {},
   "outputs": [],
   "source": [
    "# there are three main distribution plots\n",
    "#Rug Plot\n",
    "#Histogram\n",
    "#KDE Plot"
   ]
  },
  {
   "cell_type": "code",
   "execution_count": 3,
   "id": "30d61383",
   "metadata": {},
   "outputs": [],
   "source": [
    "import numpy as np\n",
    "import pandas as pd\n",
    "import matplotlib.pyplot as plt\n",
    "import seaborn as sns"
   ]
  },
  {
   "cell_type": "code",
   "execution_count": 4,
   "id": "1676baa0",
   "metadata": {},
   "outputs": [],
   "source": [
    "df= pd.read_csv(\"dm_office_sales.csv\")"
   ]
  },
  {
   "cell_type": "code",
   "execution_count": 5,
   "id": "9ec1e5c2",
   "metadata": {},
   "outputs": [
    {
     "data": {
      "text/html": [
       "<div>\n",
       "<style scoped>\n",
       "    .dataframe tbody tr th:only-of-type {\n",
       "        vertical-align: middle;\n",
       "    }\n",
       "\n",
       "    .dataframe tbody tr th {\n",
       "        vertical-align: top;\n",
       "    }\n",
       "\n",
       "    .dataframe thead th {\n",
       "        text-align: right;\n",
       "    }\n",
       "</style>\n",
       "<table border=\"1\" class=\"dataframe\">\n",
       "  <thead>\n",
       "    <tr style=\"text-align: right;\">\n",
       "      <th></th>\n",
       "      <th>division</th>\n",
       "      <th>level of education</th>\n",
       "      <th>training level</th>\n",
       "      <th>work experience</th>\n",
       "      <th>salary</th>\n",
       "      <th>sales</th>\n",
       "    </tr>\n",
       "  </thead>\n",
       "  <tbody>\n",
       "    <tr>\n",
       "      <th>0</th>\n",
       "      <td>printers</td>\n",
       "      <td>some college</td>\n",
       "      <td>2</td>\n",
       "      <td>6</td>\n",
       "      <td>91684</td>\n",
       "      <td>372302</td>\n",
       "    </tr>\n",
       "    <tr>\n",
       "      <th>1</th>\n",
       "      <td>printers</td>\n",
       "      <td>associate's degree</td>\n",
       "      <td>2</td>\n",
       "      <td>10</td>\n",
       "      <td>119679</td>\n",
       "      <td>495660</td>\n",
       "    </tr>\n",
       "    <tr>\n",
       "      <th>2</th>\n",
       "      <td>peripherals</td>\n",
       "      <td>high school</td>\n",
       "      <td>0</td>\n",
       "      <td>9</td>\n",
       "      <td>82045</td>\n",
       "      <td>320453</td>\n",
       "    </tr>\n",
       "    <tr>\n",
       "      <th>3</th>\n",
       "      <td>office supplies</td>\n",
       "      <td>associate's degree</td>\n",
       "      <td>2</td>\n",
       "      <td>5</td>\n",
       "      <td>92949</td>\n",
       "      <td>377148</td>\n",
       "    </tr>\n",
       "    <tr>\n",
       "      <th>4</th>\n",
       "      <td>office supplies</td>\n",
       "      <td>high school</td>\n",
       "      <td>1</td>\n",
       "      <td>5</td>\n",
       "      <td>71280</td>\n",
       "      <td>312802</td>\n",
       "    </tr>\n",
       "    <tr>\n",
       "      <th>...</th>\n",
       "      <td>...</td>\n",
       "      <td>...</td>\n",
       "      <td>...</td>\n",
       "      <td>...</td>\n",
       "      <td>...</td>\n",
       "      <td>...</td>\n",
       "    </tr>\n",
       "    <tr>\n",
       "      <th>995</th>\n",
       "      <td>computer hardware</td>\n",
       "      <td>associate's degree</td>\n",
       "      <td>1</td>\n",
       "      <td>1</td>\n",
       "      <td>70083</td>\n",
       "      <td>177953</td>\n",
       "    </tr>\n",
       "    <tr>\n",
       "      <th>996</th>\n",
       "      <td>computer software</td>\n",
       "      <td>associate's degree</td>\n",
       "      <td>1</td>\n",
       "      <td>0</td>\n",
       "      <td>68648</td>\n",
       "      <td>103703</td>\n",
       "    </tr>\n",
       "    <tr>\n",
       "      <th>997</th>\n",
       "      <td>peripherals</td>\n",
       "      <td>associate's degree</td>\n",
       "      <td>2</td>\n",
       "      <td>8</td>\n",
       "      <td>108354</td>\n",
       "      <td>450011</td>\n",
       "    </tr>\n",
       "    <tr>\n",
       "      <th>998</th>\n",
       "      <td>peripherals</td>\n",
       "      <td>associate's degree</td>\n",
       "      <td>2</td>\n",
       "      <td>3</td>\n",
       "      <td>79035</td>\n",
       "      <td>330354</td>\n",
       "    </tr>\n",
       "    <tr>\n",
       "      <th>999</th>\n",
       "      <td>computer hardware</td>\n",
       "      <td>some college</td>\n",
       "      <td>0</td>\n",
       "      <td>9</td>\n",
       "      <td>108444</td>\n",
       "      <td>364436</td>\n",
       "    </tr>\n",
       "  </tbody>\n",
       "</table>\n",
       "<p>1000 rows × 6 columns</p>\n",
       "</div>"
      ],
      "text/plain": [
       "              division  level of education  training level  work experience  \\\n",
       "0             printers        some college               2                6   \n",
       "1             printers  associate's degree               2               10   \n",
       "2          peripherals         high school               0                9   \n",
       "3      office supplies  associate's degree               2                5   \n",
       "4      office supplies         high school               1                5   \n",
       "..                 ...                 ...             ...              ...   \n",
       "995  computer hardware  associate's degree               1                1   \n",
       "996  computer software  associate's degree               1                0   \n",
       "997        peripherals  associate's degree               2                8   \n",
       "998        peripherals  associate's degree               2                3   \n",
       "999  computer hardware        some college               0                9   \n",
       "\n",
       "     salary   sales  \n",
       "0     91684  372302  \n",
       "1    119679  495660  \n",
       "2     82045  320453  \n",
       "3     92949  377148  \n",
       "4     71280  312802  \n",
       "..      ...     ...  \n",
       "995   70083  177953  \n",
       "996   68648  103703  \n",
       "997  108354  450011  \n",
       "998   79035  330354  \n",
       "999  108444  364436  \n",
       "\n",
       "[1000 rows x 6 columns]"
      ]
     },
     "execution_count": 5,
     "metadata": {},
     "output_type": "execute_result"
    }
   ],
   "source": [
    "df"
   ]
  },
  {
   "cell_type": "code",
   "execution_count": 6,
   "id": "85be4c1e",
   "metadata": {},
   "outputs": [
    {
     "data": {
      "text/html": [
       "<div>\n",
       "<style scoped>\n",
       "    .dataframe tbody tr th:only-of-type {\n",
       "        vertical-align: middle;\n",
       "    }\n",
       "\n",
       "    .dataframe tbody tr th {\n",
       "        vertical-align: top;\n",
       "    }\n",
       "\n",
       "    .dataframe thead th {\n",
       "        text-align: right;\n",
       "    }\n",
       "</style>\n",
       "<table border=\"1\" class=\"dataframe\">\n",
       "  <thead>\n",
       "    <tr style=\"text-align: right;\">\n",
       "      <th></th>\n",
       "      <th>division</th>\n",
       "      <th>level of education</th>\n",
       "      <th>training level</th>\n",
       "      <th>work experience</th>\n",
       "      <th>salary</th>\n",
       "      <th>sales</th>\n",
       "    </tr>\n",
       "  </thead>\n",
       "  <tbody>\n",
       "    <tr>\n",
       "      <th>0</th>\n",
       "      <td>printers</td>\n",
       "      <td>some college</td>\n",
       "      <td>2</td>\n",
       "      <td>6</td>\n",
       "      <td>91684</td>\n",
       "      <td>372302</td>\n",
       "    </tr>\n",
       "    <tr>\n",
       "      <th>1</th>\n",
       "      <td>printers</td>\n",
       "      <td>associate's degree</td>\n",
       "      <td>2</td>\n",
       "      <td>10</td>\n",
       "      <td>119679</td>\n",
       "      <td>495660</td>\n",
       "    </tr>\n",
       "    <tr>\n",
       "      <th>2</th>\n",
       "      <td>peripherals</td>\n",
       "      <td>high school</td>\n",
       "      <td>0</td>\n",
       "      <td>9</td>\n",
       "      <td>82045</td>\n",
       "      <td>320453</td>\n",
       "    </tr>\n",
       "    <tr>\n",
       "      <th>3</th>\n",
       "      <td>office supplies</td>\n",
       "      <td>associate's degree</td>\n",
       "      <td>2</td>\n",
       "      <td>5</td>\n",
       "      <td>92949</td>\n",
       "      <td>377148</td>\n",
       "    </tr>\n",
       "    <tr>\n",
       "      <th>4</th>\n",
       "      <td>office supplies</td>\n",
       "      <td>high school</td>\n",
       "      <td>1</td>\n",
       "      <td>5</td>\n",
       "      <td>71280</td>\n",
       "      <td>312802</td>\n",
       "    </tr>\n",
       "  </tbody>\n",
       "</table>\n",
       "</div>"
      ],
      "text/plain": [
       "          division  level of education  training level  work experience  \\\n",
       "0         printers        some college               2                6   \n",
       "1         printers  associate's degree               2               10   \n",
       "2      peripherals         high school               0                9   \n",
       "3  office supplies  associate's degree               2                5   \n",
       "4  office supplies         high school               1                5   \n",
       "\n",
       "   salary   sales  \n",
       "0   91684  372302  \n",
       "1  119679  495660  \n",
       "2   82045  320453  \n",
       "3   92949  377148  \n",
       "4   71280  312802  "
      ]
     },
     "execution_count": 6,
     "metadata": {},
     "output_type": "execute_result"
    }
   ],
   "source": [
    "df.head()"
   ]
  },
  {
   "cell_type": "markdown",
   "id": "47b16c5f",
   "metadata": {},
   "source": [
    "# rugplot"
   ]
  },
  {
   "cell_type": "code",
   "execution_count": 8,
   "id": "d184e073",
   "metadata": {},
   "outputs": [
    {
     "data": {
      "text/plain": [
       "<AxesSubplot:xlabel='salary'>"
      ]
     },
     "execution_count": 8,
     "metadata": {},
     "output_type": "execute_result"
    },
    {
     "data": {
      "image/png": "[encoded data removed]",
      "text/plain": [
       "<Figure size 432x288 with 1 Axes>"
      ]
     },
     "metadata": {
      "needs_background": "light"
     },
     "output_type": "display_data"
    }
   ],
   "source": [
    "sns.rugplot(x=\"salary\",data=df,height=0.5)"
   ]
  },
  {
   "cell_type": "markdown",
   "id": "5caf8269",
   "metadata": {},
   "source": [
    "# displot"
   ]
  },
  {
   "cell_type": "code",
   "execution_count": 12,
   "id": "5d0a4641",
   "metadata": {},
   "outputs": [
    {
     "data": {
      "text/plain": [
       "<seaborn.axisgrid.FacetGrid at 0x2ac44d65070>"
      ]
     },
     "execution_count": 12,
     "metadata": {},
     "output_type": "execute_result"
    },
    {
     "data": {
      "image/png": "[encoded data removed]",
      "text/plain": [
       "<Figure size 360x360 with 1 Axes>"
      ]
     },
     "metadata": {
      "needs_background": "light"
     },
     "output_type": "display_data"
    }
   ],
   "source": [
    "# distplot is deprecated use displot\n",
    "sns.displot(x=\"salary\",data=df,bins=100)"
   ]
  },
  {
   "cell_type": "code",
   "execution_count": 28,
   "id": "a30174a7",
   "metadata": {},
   "outputs": [
    {
     "data": {
      "text/plain": [
       "<seaborn.axisgrid.FacetGrid at 0x2ac4753f760>"
      ]
     },
     "execution_count": 28,
     "metadata": {},
     "output_type": "execute_result"
    },
    {
     "data": {
      "image/png": "[encoded data removed]",
      "text/plain": [
       "<Figure size 360x360 with 1 Axes>"
      ]
     },
     "metadata": {},
     "output_type": "display_data"
    }
   ],
   "source": [
    "# all style color used in matplotlib are available\n",
    "# here like marker etc\n",
    "sns.set(style=\"darkgrid\") #style=ticks\n",
    "sns.displot(x=\"salary\",data=df,bins=20,color=\"cyan\",\n",
    "            edgecolor=\"red\",linewidth=2,kde=True,rug=True)"
   ]
  },
  {
   "cell_type": "markdown",
   "id": "64805023",
   "metadata": {},
   "source": [
    "# histplot"
   ]
  },
  {
   "cell_type": "code",
   "execution_count": 26,
   "id": "e7b1ed77",
   "metadata": {},
   "outputs": [
    {
     "data": {
      "text/plain": [
       "<AxesSubplot:xlabel='salary', ylabel='Count'>"
      ]
     },
     "execution_count": 26,
     "metadata": {},
     "output_type": "execute_result"
    },
    {
     "data": {
      "image/png": "[encoded data removed]",
      "text/plain": [
       "<Figure size 432x288 with 1 Axes>"
      ]
     },
     "metadata": {},
     "output_type": "display_data"
    }
   ],
   "source": [
    "sns.histplot(x=\"salary\",data=df)\n"
   ]
  },
  {
   "cell_type": "markdown",
   "id": "e8cce833",
   "metadata": {},
   "source": [
    "# kdeplot"
   ]
  },
  {
   "cell_type": "code",
   "execution_count": 33,
   "id": "e154255c",
   "metadata": {},
   "outputs": [
    {
     "data": {
      "text/plain": [
       "<AxesSubplot:xlabel='salary', ylabel='Density'>"
      ]
     },
     "execution_count": 33,
     "metadata": {},
     "output_type": "execute_result"
    },
    {
     "data": {
      "image/png": "[encoded data removed]",
      "text/plain": [
       "<Figure size 432x288 with 1 Axes>"
      ]
     },
     "metadata": {},
     "output_type": "display_data"
    }
   ],
   "source": [
    "#plt.figure(figsize=(100,50),dpi=20)\n",
    "sns.set(style=\"white\")\n",
    "sns.kdeplot(data=df,x=\"salary\")"
   ]
  },
  {
   "cell_type": "code",
   "execution_count": 36,
   "id": "993e6e3f",
   "metadata": {},
   "outputs": [],
   "source": [
    "np.random.seed(42)\n",
    "sample=np.random.randint(0,100,200)"
   ]
  },
  {
   "cell_type": "code",
   "execution_count": 37,
   "id": "1c6ebb5a",
   "metadata": {},
   "outputs": [
    {
     "data": {
      "text/plain": [
       "array([51, 92, 14, 71, 60, 20, 82, 86, 74, 74, 87, 99, 23,  2, 21, 52,  1,\n",
       "       87, 29, 37,  1, 63, 59, 20, 32, 75, 57, 21, 88, 48, 90, 58, 41, 91,\n",
       "       59, 79, 14, 61, 61, 46, 61, 50, 54, 63,  2, 50,  6, 20, 72, 38, 17,\n",
       "        3, 88, 59, 13,  8, 89, 52,  1, 83, 91, 59, 70, 43,  7, 46, 34, 77,\n",
       "       80, 35, 49,  3,  1,  5, 53,  3, 53, 92, 62, 17, 89, 43, 33, 73, 61,\n",
       "       99, 13, 94, 47, 14, 71, 77, 86, 61, 39, 84, 79, 81, 52, 23, 25, 88,\n",
       "       59, 40, 28, 14, 44, 64, 88, 70,  8, 87,  0,  7, 87, 62, 10, 80,  7,\n",
       "       34, 34, 32,  4, 40, 27,  6, 72, 71, 11, 33, 32, 47, 22, 61, 87, 36,\n",
       "       98, 43, 85, 90, 34, 64, 98, 46, 77,  2,  0,  4, 89, 13, 26,  8, 78,\n",
       "       14, 89, 41, 76, 50, 62, 95, 51, 95,  3, 93, 22, 14, 42, 28, 35, 12,\n",
       "       31, 70, 58, 85, 27, 65, 41, 44, 61, 56,  5, 27, 27, 43, 83, 29, 61,\n",
       "       74, 91, 88, 61, 96,  0, 26, 61, 76,  2, 69, 71, 26])"
      ]
     },
     "execution_count": 37,
     "metadata": {},
     "output_type": "execute_result"
    }
   ],
   "source": [
    "sample"
   ]
  },
  {
   "cell_type": "code",
   "execution_count": 39,
   "id": "ced6eec5",
   "metadata": {},
   "outputs": [],
   "source": [
    "sample=pd.DataFrame(sample,columns=[\"age\"])\n"
   ]
  },
  {
   "cell_type": "code",
   "execution_count": 42,
   "id": "5dd09798",
   "metadata": {},
   "outputs": [
    {
     "data": {
      "text/html": [
       "<div>\n",
       "<style scoped>\n",
       "    .dataframe tbody tr th:only-of-type {\n",
       "        vertical-align: middle;\n",
       "    }\n",
       "\n",
       "    .dataframe tbody tr th {\n",
       "        vertical-align: top;\n",
       "    }\n",
       "\n",
       "    .dataframe thead th {\n",
       "        text-align: right;\n",
       "    }\n",
       "</style>\n",
       "<table border=\"1\" class=\"dataframe\">\n",
       "  <thead>\n",
       "    <tr style=\"text-align: right;\">\n",
       "      <th></th>\n",
       "      <th>age</th>\n",
       "    </tr>\n",
       "  </thead>\n",
       "  <tbody>\n",
       "    <tr>\n",
       "      <th>0</th>\n",
       "      <td>51</td>\n",
       "    </tr>\n",
       "    <tr>\n",
       "      <th>1</th>\n",
       "      <td>92</td>\n",
       "    </tr>\n",
       "    <tr>\n",
       "      <th>2</th>\n",
       "      <td>14</td>\n",
       "    </tr>\n",
       "    <tr>\n",
       "      <th>3</th>\n",
       "      <td>71</td>\n",
       "    </tr>\n",
       "    <tr>\n",
       "      <th>4</th>\n",
       "      <td>60</td>\n",
       "    </tr>\n",
       "    <tr>\n",
       "      <th>...</th>\n",
       "      <td>...</td>\n",
       "    </tr>\n",
       "    <tr>\n",
       "      <th>195</th>\n",
       "      <td>76</td>\n",
       "    </tr>\n",
       "    <tr>\n",
       "      <th>196</th>\n",
       "      <td>2</td>\n",
       "    </tr>\n",
       "    <tr>\n",
       "      <th>197</th>\n",
       "      <td>69</td>\n",
       "    </tr>\n",
       "    <tr>\n",
       "      <th>198</th>\n",
       "      <td>71</td>\n",
       "    </tr>\n",
       "    <tr>\n",
       "      <th>199</th>\n",
       "      <td>26</td>\n",
       "    </tr>\n",
       "  </tbody>\n",
       "</table>\n",
       "<p>200 rows × 1 columns</p>\n",
       "</div>"
      ],
      "text/plain": [
       "     age\n",
       "0     51\n",
       "1     92\n",
       "2     14\n",
       "3     71\n",
       "4     60\n",
       "..   ...\n",
       "195   76\n",
       "196    2\n",
       "197   69\n",
       "198   71\n",
       "199   26\n",
       "\n",
       "[200 rows x 1 columns]"
      ]
     },
     "execution_count": 42,
     "metadata": {},
     "output_type": "execute_result"
    }
   ],
   "source": [
    "sample"
   ]
  },
  {
   "cell_type": "code",
   "execution_count": 41,
   "id": "5d27e00d",
   "metadata": {},
   "outputs": [
    {
     "data": {
      "text/plain": [
       "<AxesSubplot:xlabel='age'>"
      ]
     },
     "execution_count": 41,
     "metadata": {},
     "output_type": "execute_result"
    },
    {
     "data": {
      "image/png": "[encoded data removed]",
      "text/plain": [
       "<Figure size 432x288 with 1 Axes>"
      ]
     },
     "metadata": {},
     "output_type": "display_data"
    }
   ],
   "source": [
    "sns.rugplot(data=sample,x=\"age\")"
   ]
  },
  {
   "cell_type": "code",
   "execution_count": 48,
   "id": "f7d8bc8a",
   "metadata": {},
   "outputs": [
    {
     "data": {
      "text/plain": [
       "<seaborn.axisgrid.FacetGrid at 0x2ac48027070>"
      ]
     },
     "execution_count": 48,
     "metadata": {},
     "output_type": "execute_result"
    },
    {
     "data": {
      "image/png": "[encoded data removed]",
      "text/plain": [
       "<Figure size 360x360 with 1 Axes>"
      ]
     },
     "metadata": {},
     "output_type": "display_data"
    }
   ],
   "source": [
    "sns.displot(x=\"age\",data=sample,rug=True,bins=30,kde=True)"
   ]
  },
  {
   "cell_type": "code",
   "execution_count": 51,
   "id": "884c7297",
   "metadata": {},
   "outputs": [
    {
     "data": {
      "text/plain": [
       "<AxesSubplot:xlabel='age', ylabel='Density'>"
      ]
     },
     "execution_count": 51,
     "metadata": {},
     "output_type": "execute_result"
    },
    {
     "data": {
      "image/png": "[encoded data removed]",
      "text/plain": [
       "<Figure size 432x288 with 1 Axes>"
      ]
     },
     "metadata": {},
     "output_type": "display_data"
    }
   ],
   "source": [
    "sns.kdeplot(x=\"age\",data=sample,color=\"red\",clip=[0,100])"
   ]
  },
  {
   "cell_type": "code",
   "execution_count": 56,
   "id": "83a57f52",
   "metadata": {},
   "outputs": [
    {
     "data": {
      "text/plain": [
       "<AxesSubplot:xlabel='age', ylabel='Density'>"
      ]
     },
     "execution_count": 56,
     "metadata": {},
     "output_type": "execute_result"
    },
    {
     "data": {
      "image/png": "[encoded data removed]",
      "text/plain": [
       "<Figure size 432x288 with 1 Axes>"
      ]
     },
     "metadata": {},
     "output_type": "display_data"
    }
   ],
   "source": [
    "sns.kdeplot(x=\"age\",data=sample,color=\"red\",clip=[0,100],bw_adjust=0.6,shade=True)"
   ]
  },
  {
   "cell_type": "code",
   "execution_count": null,
   "id": "42ab2d7e",
   "metadata": {},
   "outputs": [],
   "source": []
  }
 ],
 "metadata": {
  "kernelspec": {
   "display_name": "Python 3 (ipykernel)",
   "language": "python",
   "name": "python3"
  },
  "language_info": {
   "codemirror_mode": {
    "name": "ipython",
    "version": 3
   },
   "file_extension": ".py",
   "mimetype": "text/x-python",
   "name": "python",
   "nbconvert_exporter": "python",
   "pygments_lexer": "ipython3",
   "version": "3.9.12"
  }
 },
 "nbformat": 4,
 "nbformat_minor": 5
}
